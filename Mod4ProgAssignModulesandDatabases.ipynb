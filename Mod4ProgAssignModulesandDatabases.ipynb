{
 "cells": [
  {
   "cell_type": "code",
   "execution_count": 1,
   "id": "7157de41-7fdc-4e4b-9e72-e3deba23fa1f",
   "metadata": {},
   "outputs": [
    {
     "data": {
      "text/plain": [
       "<sqlite3.Cursor at 0x10f882bd940>"
      ]
     },
     "execution_count": 1,
     "metadata": {},
     "output_type": "execute_result"
    }
   ],
   "source": [
    "#16.8\n",
    "import sqlite3\n",
    "conn = sqlite3.connect('books.db')\n",
    "curs = conn.cursor()\n",
    "curs.execute('''CREATE TABLE books\n",
    "    (title VARCHAR(50),\n",
    "     author VARCHAR(50),\n",
    "     year INT)''')"
   ]
  },
  {
   "cell_type": "code",
   "execution_count": 35,
   "id": "3a9ac203-cdc7-4c53-a645-832c3ad754f1",
   "metadata": {},
   "outputs": [],
   "source": [
    "import sqlite3\n",
    "conn = sqlite3.connect('books.db')\n",
    "curs = conn.cursor()\n",
    "ins = 'INSERT INTO books (title, author, year) VALUES(?, ?, ?)'\n",
    "\n",
    "curs.execute(ins, ('The Weirdstone of Brisingamen','Alan Garner', 1960))\n",
    "conn.commit()\n",
    "curs.execute(ins, ('Perdido Street Station','China Miéville', 2000))\n",
    "conn.commit()\n",
    "curs.execute(ins, ('Thud!','Terry Pratchett', 2005))\n",
    "conn.commit()\n",
    "curs.execute(ins, ('The Spellman Files','Lisa Lutz', 2007))\n",
    "conn.commit()\n",
    "curs.execute(ins, ('Small Gods','Terry Pratchett', 1992))\n",
    "conn.commit()"
   ]
  },
  {
   "cell_type": "code",
   "execution_count": 37,
   "id": "41dcaa99-cab6-4dea-9df8-07cf50296050",
   "metadata": {},
   "outputs": [
    {
     "data": {
      "text/plain": [
       "[('Perdido Street Station',),\n",
       " ('Small Gods',),\n",
       " ('The Spellman Files',),\n",
       " ('The Weirdstone of Brisingamen',),\n",
       " ('Thud!',)]"
      ]
     },
     "execution_count": 37,
     "metadata": {},
     "output_type": "execute_result"
    }
   ],
   "source": [
    "\n",
    "curs.execute('SELECT title from books ORDER BY title')\n",
    "curs.fetchall()"
   ]
  },
  {
   "cell_type": "code",
   "execution_count": 45,
   "id": "d7fd10b1-ff3b-4328-9047-87fe17ab92d9",
   "metadata": {},
   "outputs": [
    {
     "name": "stdout",
     "output_type": "stream",
     "text": [
      "Perdido Street Station\n",
      "Small Gods\n",
      "The Spellman Files\n",
      "The Weirdstone of Brisingamen\n",
      "Thud!\n"
     ]
    }
   ],
   "source": [
    "import sqlalchemy as sa\n",
    "\n",
    "# Create an engine to connect to the database\n",
    "engine = sa.create_engine('sqlite:///C:\\\\Users\\\\WSADMIN\\\\Desktop\\\\SDEV220Jupiter\\\\M04\\\\books.db') \n",
    "\n",
    "# Create a connection to the database\n",
    "conn = engine.connect()\n",
    "\n",
    "# Execute a query and fetch the results\n",
    "#result = conn.execute(sa.text(\"SELECT * FROM books\")) \n",
    "result = conn.execute(sa.text(\"SELECT title FROM books order by title\")) \n",
    "#conn.execute(sa.text(\"delete FROM books\")) \n",
    "#conn.commit()\n",
    "\n",
    "#conn.close()\n",
    "#conn.execute(sa.text(\"delete FROM books where title = 'The Weirdstone of Brisingamen'\")) \n",
    "\n",
    "# Print the results\n",
    "for row in result:\n",
    "    #print(row)\n",
    "    print(row[0])\n",
    "\n",
    "conn.close()"
   ]
  },
  {
   "cell_type": "code",
   "execution_count": null,
   "id": "bf131ad3-ad1f-40e6-8764-fe61628b291b",
   "metadata": {},
   "outputs": [],
   "source": []
  }
 ],
 "metadata": {
  "kernelspec": {
   "display_name": "Python 3 (ipykernel)",
   "language": "python",
   "name": "python3"
  },
  "language_info": {
   "codemirror_mode": {
    "name": "ipython",
    "version": 3
   },
   "file_extension": ".py",
   "mimetype": "text/x-python",
   "name": "python",
   "nbconvert_exporter": "python",
   "pygments_lexer": "ipython3",
   "version": "3.12.7"
  }
 },
 "nbformat": 4,
 "nbformat_minor": 5
}
